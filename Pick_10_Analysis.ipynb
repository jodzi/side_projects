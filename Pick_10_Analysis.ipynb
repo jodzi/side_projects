{
 "cells": [
  {
   "cell_type": "code",
   "execution_count": 1,
   "metadata": {
    "collapsed": false
   },
   "outputs": [],
   "source": [
    "import urllib\n",
    "from bs4 import BeautifulSoup"
   ]
  },
  {
   "cell_type": "code",
   "execution_count": 3,
   "metadata": {
    "collapsed": false
   },
   "outputs": [],
   "source": [
    "def buildTourneyYear(document, year):\n",
    "    \"\"\"\n",
    "    Passes in a BeautifulSoup document of html.  Parses document, and returns a list of all games.\n",
    "    \"\"\"\n",
    "    \n",
    "    text = document.get_text().split('\\n')\n",
    "\n",
    "    #Computes index for full data list\n",
    "    if year > 2010:\n",
    "        first = text.index('SECOND ROUND')\n",
    "        second = text.index('THIRD ROUND')\n",
    "    else:\n",
    "        first = text.index('FIRST ROUND')\n",
    "        second = text.index('SECOND ROUND')\n",
    "    if year == 2002:\n",
    "        last = text.index('CHAMPIONSHIP') + 6\n",
    "    else:\n",
    "        last = text.index('NATIONAL CHAMPIONSHIP') + 6\n",
    "    full = text[first:last]\n",
    "\n",
    "    #Converts unicode elements to string\n",
    "    full = [str(el) for el in full]\n",
    "\n",
    "    #Removes empty strings from elements\n",
    "    for num in range(full.count('')):\n",
    "        full.remove('') \n",
    "    for num in range(full.count(' ')):\n",
    "        full.remove(' ')\n",
    "        \n",
    "    return full\n",
    "\n",
    "def buildRounds(gameList, gameRound, year):\n",
    "    \n",
    "    #Finds the index to separate first round and others\n",
    "    if year > 2010:\n",
    "        second = gameList.index('THIRD ROUND')\n",
    "    else:\n",
    "        second = gameList.index('SECOND ROUND')\n",
    "    \n",
    "    #Checks to see with round to build\n",
    "    if gameRound == 'first':\n",
    "        first_round = gameList[2:second]\n",
    "        [first_round.remove(game) for game in first_round if game[:3] != 'No.']\n",
    "        return first_round\n",
    "    else:\n",
    "        other_rounds = gameList[second + 2:]\n",
    "        [other_rounds.remove(game) for game in other_rounds if ',' not in game]\n",
    "\n",
    "        return other_rounds\n",
    "\n",
    "def buildYearWinners(first, other):\n",
    "    \"\"\"\n",
    "    Builds a dictionary of seeds as keys and a list of winning teams of those seeds.\n",
    "    first = list\n",
    "    other = list\n",
    "    returns a dictionary\n",
    "    \"\"\"\n",
    "    \n",
    "    #Builds a dictionary with empty lists of values for each seed\n",
    "    year_winners = {}\n",
    "    for j in range(1,17):\n",
    "        year_winners[j] = []\n",
    "\n",
    "    #Adds winning seeded teams for first round\n",
    "    for game in first:\n",
    "        seed = int(game[4:6].rstrip())\n",
    "        if seed < 10:\n",
    "            winner = game.split(',')[0][6:-3].rstrip()\n",
    "        else:\n",
    "            winner = game.split(',')[0][7:-3].rstrip()\n",
    "        year_winners[seed].append(winner)\n",
    "\n",
    "    #Adds winning seeded teams for remaining rounds\n",
    "    for game in other:\n",
    "        winner = game.split(',')[0][:-3].lstrip()\n",
    "        team_lst = year_winners.values()\n",
    "        for lst in team_lst:\n",
    "            if winner in lst:\n",
    "                lst.append(winner)\n",
    "    \n",
    "    return year_winners\n",
    "\n",
    "def tourneyWinners(beg, end):\n",
    "    \n",
    "    winners = []\n",
    "\n",
    "    years = range(beg,end)\n",
    "\n",
    "    for i in range(len(years)):\n",
    "\n",
    "            html = urllib.urlopen('http://www.cbssports.com/collegebasketball/ncaa-tournament/history/yearbyyear/' + str(years[i]))\n",
    "            document = BeautifulSoup(html)\n",
    "\n",
    "            try:\n",
    "                full = buildTourneyYear(document, years[i])\n",
    "                first_round = buildRounds(full,'first', years[i])\n",
    "                other_rounds = buildRounds(full,'other', years[i])\n",
    "            except UnicodeEncodeError:\n",
    "                print 'error in year ' + str(years[i])\n",
    "\n",
    "            try:\n",
    "                year_winners = buildYearWinners(first_round, other_rounds)\n",
    "            except ValueError:\n",
    "                print 'error in year ' + str(years[i])\n",
    "            winners.append(year_winners)\n",
    "    \n",
    "    return winners"
   ]
  },
  {
   "cell_type": "code",
   "execution_count": 7,
   "metadata": {
    "collapsed": false
   },
   "outputs": [
    {
     "ename": "ValueError",
     "evalue": "'THIRD ROUND' is not in list",
     "output_type": "error",
     "traceback": [
      "\u001b[0;31m---------------------------------------------------------------------------\u001b[0m\n\u001b[0;31mValueError\u001b[0m                                Traceback (most recent call last)",
      "\u001b[0;32m<ipython-input-7-60bdf9cb3e60>\u001b[0m in \u001b[0;36m<module>\u001b[0;34m()\u001b[0m\n\u001b[1;32m      6\u001b[0m \u001b[0;31m#Computes index for full data list\u001b[0m\u001b[0;34m\u001b[0m\u001b[0;34m\u001b[0m\u001b[0m\n\u001b[1;32m      7\u001b[0m \u001b[0mfirst\u001b[0m \u001b[0;34m=\u001b[0m \u001b[0mtext\u001b[0m\u001b[0;34m.\u001b[0m\u001b[0mindex\u001b[0m\u001b[0;34m(\u001b[0m\u001b[0;34m'FIRST ROUND'\u001b[0m\u001b[0;34m)\u001b[0m\u001b[0;34m\u001b[0m\u001b[0m\n\u001b[0;32m----> 8\u001b[0;31m \u001b[0msecond\u001b[0m \u001b[0;34m=\u001b[0m \u001b[0mtext\u001b[0m\u001b[0;34m.\u001b[0m\u001b[0mindex\u001b[0m\u001b[0;34m(\u001b[0m\u001b[0;34m'THIRD ROUND'\u001b[0m\u001b[0;34m)\u001b[0m\u001b[0;34m\u001b[0m\u001b[0m\n\u001b[0m\u001b[1;32m      9\u001b[0m \u001b[0mlast\u001b[0m \u001b[0;34m=\u001b[0m \u001b[0mtext\u001b[0m\u001b[0;34m.\u001b[0m\u001b[0mindex\u001b[0m\u001b[0;34m(\u001b[0m\u001b[0;34m'NATIONAL CHAMPIONSHIP'\u001b[0m\u001b[0;34m)\u001b[0m \u001b[0;34m+\u001b[0m \u001b[0;36m6\u001b[0m\u001b[0;34m\u001b[0m\u001b[0m\n\u001b[1;32m     10\u001b[0m \u001b[0mfull\u001b[0m \u001b[0;34m=\u001b[0m \u001b[0mtext\u001b[0m\u001b[0;34m[\u001b[0m\u001b[0mfirst\u001b[0m\u001b[0;34m:\u001b[0m\u001b[0mlast\u001b[0m\u001b[0;34m]\u001b[0m\u001b[0;34m\u001b[0m\u001b[0m\n",
      "\u001b[0;31mValueError\u001b[0m: 'THIRD ROUND' is not in list"
     ]
    }
   ],
   "source": [
    "#2010\n",
    "html = urllib.urlopen('http://www.cbssports.com/collegebasketball/ncaa-tournament/history/yearbyyear/2010')\n",
    "document = BeautifulSoup(html)\n",
    "text = document.get_text().split('\\n')\n",
    "\n",
    "#Computes index for full data list\n",
    "first = text.index('FIRST ROUND')\n",
    "second = text.index('THIRD ROUND')\n",
    "last = text.index('NATIONAL CHAMPIONSHIP') + 6\n",
    "full = text[first:last]\n",
    "full.remove(full[97])\n",
    "\n",
    "#Converts unicode elements to string\n",
    "full = [str(el) for el in full]\n",
    "\n",
    "#Removes empty strings from elements\n",
    "for num in range(full.count('')):\n",
    "    full.remove('') \n",
    "for num in range(full.count(' ')):\n",
    "    full.remove(' ')"
   ]
  },
  {
   "cell_type": "code",
   "execution_count": 10,
   "metadata": {
    "collapsed": false
   },
   "outputs": [
    {
     "name": "stdout",
     "output_type": "stream",
     "text": [
      "{1: ['Syracuse', 'Kentucky', 'Duke', 'Syracuse', 'Kentucky', 'Duke', 'Kentucky', 'Duke', 'Duke', 'Duke', 'Duke'], 2: ['Ohio State', 'Kansas State', 'West Virginia', 'Villanova', 'Ohio State', 'Kansas State', 'West Virginia', 'West Virginia', 'West Virginia'], 3: ['Pittsburgh', 'New Mexico', 'Baylor', 'Baylor', 'Baylor'], 4: ['Maryland', 'Wisconsin', 'Purdue', 'Purdue'], 5: ['Michigan State', 'Butler', 'Texas A&M', 'Michigan State', 'Butler', 'Michigan State', 'Butler', 'Michigan State', 'Butler', 'Butler'], 6: ['Tennessee', 'Xavier', 'Tennessee', 'Xavier', 'Tennessee'], 7: ['BYU'], 8: ['Gonzaga', 'California'], 9: ['Northern Iowa', 'Wake Forest', 'Northern Iowa'], 10: ['Georgia Tech', 'Missouri', \"St. Mary's\"], 11: ['Washington', 'Old Dominion', 'Washington'], 12: ['Cornell', 'Cornell'], 13: ['Murray State'], 14: ['Ohio'], 15: [], 16: []}\n"
     ]
    }
   ],
   "source": [
    "second = full.index('SECOND ROUND')\n",
    "    \n",
    "first_round = full[3:second]\n",
    "[first_round.remove(game) for game in first_round if game[:3] != 'No.']\n",
    "#print first_round\n",
    "other_rounds = full[second + 2:]\n",
    "[other_rounds.remove(game) for game in other_rounds if ',' not in game]\n",
    "#print other_rounds\n",
    "\n",
    "single_winner = {}\n",
    "for j in range(1,17):\n",
    "    single_winner[j] = []\n",
    "\n",
    "    #Adds winning seeded teams for first round\n",
    "for game in first_round:\n",
    "    seed = int(game[4:6].rstrip())\n",
    "    if seed < 10:\n",
    "        winner = game.split(',')[0][6:-3].rstrip()\n",
    "    else:\n",
    "        winner = game.split(',')[0][7:-3].rstrip()\n",
    "    single_winner[seed].append(winner)\n",
    "\n",
    "    #Adds winning seeded teams for remaining rounds\n",
    "for game in other_rounds:\n",
    "    winner = game.split(',')[0][:-3].lstrip()\n",
    "    team_lst = single_winner.values()\n",
    "    for lst in team_lst:\n",
    "        if winner in lst:\n",
    "            lst.append(winner)\n",
    "#single_winner[3].append('Baylor')    \n",
    "print single_winner"
   ]
  },
  {
   "cell_type": "code",
   "execution_count": 4,
   "metadata": {
    "collapsed": false
   },
   "outputs": [],
   "source": [
    "first_winners = tourneyWinners(1985,2001)\n",
    "second_winners = tourneyWinners(2002,2010)\n",
    "third_winners = tourneyWinners(2011,2013)"
   ]
  },
  {
   "cell_type": "code",
   "execution_count": 5,
   "metadata": {
    "collapsed": false
   },
   "outputs": [],
   "source": [
    "final = []\n",
    "final.extend(first_winners)\n",
    "final.extend(second_winners)\n",
    "final.extend(third_winners)"
   ]
  },
  {
   "cell_type": "code",
   "execution_count": 17,
   "metadata": {
    "collapsed": false
   },
   "outputs": [],
   "source": [
    "final.extend([single_winner])"
   ]
  },
  {
   "cell_type": "code",
   "execution_count": 86,
   "metadata": {
    "collapsed": false
   },
   "outputs": [
    {
     "name": "stdout",
     "output_type": "stream",
     "text": [
      "{1: 336, 2: 245, 3: 184, 4: 151, 5: 119, 6: 123, 7: 84, 8: 67, 9: 61, 10: 66, 11: 50, 12: 53, 13: 26, 14: 18, 15: 4, 16: 0}\n"
     ]
    }
   ],
   "source": [
    "totals = {}\n",
    "for i in range(1,17):\n",
    "    totals[i] = 0\n",
    "    for year in final:\n",
    "       totals[i] += len(year[i]) \n",
    "print totals"
   ]
  },
  {
   "cell_type": "code",
   "execution_count": 6,
   "metadata": {
    "collapsed": false
   },
   "outputs": [
    {
     "name": "stdout",
     "output_type": "stream",
     "text": [
      "[{1: [\"St. John's\", 'Georgetown', 'Oklahoma', 'Michigan', \"St. John's\", 'Georgetown', 'Oklahoma', \"St. John's\", 'Georgetown', 'Oklahoma', \"St. John's\", 'Georgetown', 'Georgetown'], 2: ['Virginia Commonwealth', 'Georgia Tech', 'Memphis State', 'North Carolina', 'Georgia Tech', 'Memphis State', 'North Carolina', 'Georgia Tech', 'Memphis State', 'North Carolina', 'Memphis State'], 3: ['North Carolina State', 'Illinois', 'Duke', 'Kansas', 'North Carolina State', 'Illinois', 'North Carolina State'], 4: ['UNLV', 'Loyola (Ill.)', 'Ohio State', 'Loyola (Ill.)'], 5: ['Southern Methodist', 'Louisiana Tech', 'Maryland', 'Louisiana Tech', 'Maryland'], 6: ['Georgia'], 7: ['Alabama', 'Syracuse', 'Ala.-Birmingham', 'Notre Dame', 'Alabama'], 8: ['Temple', 'Villanova', 'Villanova', 'Villanova', 'Villanova', 'Villanova', 'Villanova'], 9: ['Arkansas', 'Illinois State'], 10: [], 11: ['Texas-El Paso', 'Boston College', 'Auburn', 'Boston College', 'Auburn'], 12: ['Kentucky', 'Kentucky'], 13: ['Navy'], 14: [], 15: [], 16: []}, {1: ['Kentucky', \"St. John's\", 'Duke', 'Kansas', 'Kentucky', 'Duke', 'Kansas', 'Kentucky', 'Duke', 'Kansas', 'Duke', 'Kansas', 'Duke'], 2: ['Georgia Tech', 'Louisville', 'Syracuse', 'Michigan', 'Georgia Tech', 'Louisville', 'Louisville', 'Louisville', 'Louisville', 'Louisville'], 3: ['Memphis State', 'North Carolina', 'North Carolina'], 4: ['Illinois', 'UNLV', 'Oklahoma', 'Georgetown', 'UNLV'], 5: ['Alabama', 'Maryland', 'Michigan State', 'Alabama', 'Michigan State'], 6: ['UAB', \"St. Joseph's\", 'North Carolina State', 'North Carolina State'], 7: ['Bradley', 'Navy', 'Iowa State', 'Navy', 'Iowa State', 'Navy'], 8: ['Western Kentucky', 'Auburn', 'Old Dominion', 'Auburn', 'Auburn'], 9: ['Temple'], 10: ['Villanova'], 11: ['Louisiana State', 'Louisiana State', 'Louisiana State', 'Louisiana State'], 12: ['DePaul', 'DePaul'], 13: [], 14: ['Cleveland State', 'Arkansas-Little Rock', 'Cleveland State'], 15: [], 16: []}, {1: ['UNLV', 'Indiana', 'Georgetown', 'North Carolina', 'UNLV', 'Georgetown', 'UNLV', 'Indiana', 'Georgetown', 'North Carolina', 'UNLV', 'Indiana', 'Indiana', 'Indiana'], 2: ['Iowa', 'Temple', 'Alabama', 'Syracuse', 'Iowa', 'Iowa', 'Syracuse', 'Syracuse', 'Syracuse'], 3: ['Pittsburgh', 'DePaul', 'Purdue', 'DePaul'], 4: ['UCLA', 'Texas Christian'], 5: ['Duke', 'Kansas', 'Notre Dame', 'Duke', 'Kansas', 'Notre Dame'], 6: ['Oklahoma', \"St. John's\", 'Providence', 'Florida', 'Oklahoma', 'Providence', 'Florida', 'Providence'], 7: ['Texas-El Paso', 'New Orleans'], 8: ['Auburn'], 9: ['Kansas State', 'Ohio State', 'Michigan'], 10: ['Louisiana State', 'Western Kentucky', 'Louisiana State', 'Louisiana State'], 11: [], 12: ['Wyoming', 'Wyoming'], 13: ['Xavier', 'Southwest Missouri State'], 14: ['Austin Peay'], 15: [], 16: []}, {1: ['Purdue', 'Temple', 'Arizona', 'Oklahoma', 'Temple', 'Arizona', 'Temple', 'Arizona', 'Arizona', 'Oklahoma', 'Oklahoma'], 2: ['Pittsburgh', 'Duke', 'North Carolina', 'Kentucky', 'Duke', 'Kentucky', 'Duke', 'North Carolina', 'Duke'], 3: ['Syracuse', 'Michigan', 'Illinois'], 4: ['Kansas State', 'UNLV', 'Brigham Young', 'Kansas State', 'Kansas State'], 5: ['DePaul', 'Georgia Tech', 'Iowa', 'Louisville', 'Louisville'], 6: ['Kansas', 'Florida', 'Villanova', 'Kansas', 'Villanova', 'Kansas', 'Villanova', 'Kansas', 'Kansas', 'Kansas'], 7: ['Vanderbilt', 'Southern Methodist', 'Maryland', 'Vanderbilt'], 8: ['Georgetown', 'Seton Hall', 'Auburn'], 9: ['Memphis State'], 10: ['Loyola Marymount'], 11: ['Rhode Island', 'Rhode Island'], 12: [], 13: ['Richmond', 'Richmond'], 14: ['Murray State'], 15: [], 16: []}, {1: ['Illinois', 'Oklahoma', 'Georgetown', 'Arizona', 'Illinois', 'Georgetown', 'Arizona', 'Illinois', 'Georgetown', 'Illinois'], 2: ['Syracuse', 'North Carolina', 'Duke', 'Indiana', 'Syracuse', 'North Carolina', 'Duke', 'Indiana', 'Syracuse', 'Duke', 'Duke'], 3: ['Missouri', 'Michigan', 'Seton Hall', 'Michigan', 'Seton Hall', 'Michigan', 'Seton Hall', 'Seton Hall', 'Seton Hall', 'Michigan', 'Michigan'], 4: ['Louisville', 'Iowa', 'UNLV', 'Louisville', 'UNLV', 'UNLV'], 5: ['Arkansas', 'Virginia', 'North Carolina State', 'Virginia'], 6: [], 7: ['UCLA', 'West Virginia', 'Texas-El Paso'], 8: [], 9: ['Ball State', 'Louisiana Tech', 'Notre Dame', 'Clemson'], 10: ['Colorado State'], 11: ['Texas', 'South Alabama', 'Minnesota', 'Evansville', 'Minnesota'], 12: ['DePaul'], 13: ['Middle Tennessee State'], 14: ['Siena'], 15: [], 16: []}, {1: ['Michigan State', 'UNLV', 'Connecticut', 'Oklahoma', 'Michigan State', 'UNLV', 'Connecticut', 'UNLV', 'Connecticut', 'UNLV'], 2: ['Syracuse', 'Arizona', 'Kansas', 'Purdue', 'Syracuse'], 3: ['Michigan', 'Duke', 'Georgetown', 'Duke', 'Duke', 'Duke', 'Duke'], 4: ['Georgia Tech', 'Louisville', 'La Salle', 'Arkansas', 'Georgia Tech', 'Arkansas', 'Georgia Tech', 'Arkansas', 'Georgia Tech', 'Arkansas'], 5: ['Louisiana State', 'Clemson', 'Clemson'], 6: ['Minnesota', \"St. John's\", 'Xavier', 'Minnesota', 'Xavier', 'Minnesota'], 7: ['Virginia', 'Alabama', 'UCLA', 'Alabama', 'UCLA'], 8: ['Ohio State', 'North Carolina', 'North Carolina'], 9: ['UC Santa Barbara', 'California'], 10: ['Texas', 'Texas'], 11: ['Loyola Marymount', 'Loyola Marymount'], 12: ['Ball State', 'Dayton', 'Ball State'], 13: [], 14: ['Northern Iowa'], 15: [], 16: []}, {1: ['UNLV', 'Ohio State', 'North Carolina', 'Arkansas', 'UNLV', 'Ohio State', 'North Carolina', 'Arkansas', 'UNLV', 'North Carolina', 'Arkansas', 'UNLV', 'North Carolina'], 2: ['Arizona', 'Duke', 'Indiana', 'Arizona', 'Duke', 'Indiana', 'Duke', 'Duke', 'Duke', 'Duke'], 3: ['Seton Hall', 'Oklahoma State', 'Kansas', 'Seton Hall', 'Oklahoma State', 'Kansas', 'Seton Hall', 'Kansas', 'Kansas', 'Kansas'], 4: ['Utah', \"St. John's\", 'Alabama', 'Utah', \"St. John's\", 'Alabama', \"St. John's\"], 5: ['Michigan State', 'Texas', 'Wake Forest'], 6: ['N.C. State', 'Pittsburgh'], 7: ['Iowa', 'Florida State'], 8: ['Georgetown', 'Georgia Tech', 'Arizona State'], 9: ['Villanova'], 10: ['Brigham Young', 'Temple', 'Temple', 'Temple'], 11: ['Creighton', 'Connecticut', 'Connecticut'], 12: ['Eastern Michigan', 'Eastern Michigan'], 13: ['Penn State'], 14: ['Xavier'], 15: ['Richmond'], 16: []}, {1: ['Kansas', 'Ohio State', 'Duke', 'UCLA', 'Ohio State', 'Duke', 'UCLA', 'Ohio State', 'Duke', 'UCLA', 'Duke', 'Duke'], 2: ['Southern Cal', 'Oklahoma State', 'Kentucky', 'Indiana', 'Oklahoma State', 'Indiana', 'Kentucky', 'Indiana'], 3: ['Arkansas', 'Massachusetts', 'Florida State', 'Massachusetts', 'Florida State'], 4: ['Cincinnati', 'North Carolina', 'Seton Hall', 'Cincinnati', 'North Carolina', 'Seton Hall', 'Cincinnati', 'Cincinnati'], 5: ['Michigan State', 'Alabama', 'Missouri'], 6: ['Memphis State', 'Michigan', 'Syracuse', 'Georgetown', 'Memphis State', 'Memphis State', 'Michigan', 'Michigan', 'Michigan'], 7: ['Georgia Tech', 'Louisiana State', 'Georgia Tech'], 8: ['Louisville'], 9: ['Texas-El Paso', 'Connecticut', 'Iowa', 'Texas-El Paso'], 10: ['Tulane', 'Iowa State'], 11: [], 12: ['New Mexico State', 'New Mexico State'], 13: ['Southwestern Louisiana'], 14: ['East Tennessee State'], 15: [], 16: []}, {1: ['Kentucky', 'Michigan', 'North Carolina', 'Indiana', 'Kentucky', 'Michigan', 'Indiana', 'Michigan', 'North Carolina', 'Indiana', 'Michigan', 'North Carolina', 'Michigan', 'North Carolina', 'North Carolina'], 2: ['Seton Hall', 'Cincinnati', 'Kansas', 'Cincinnati', 'Kansas', 'Cincinnati', 'Kansas', 'Kansas'], 3: ['Florida State', 'Vanderbilt', 'Massachusetts', 'Duke', 'Florida State', 'Vanderbilt', 'Florida State'], 4: ['Iowa', 'Arkansas', 'Louisville', 'Arkansas', 'Louisville'], 5: ['Wake Forest', \"St. John's\", 'Oklahoma State', 'Wake Forest'], 6: ['Illinois', 'Virginia', 'California', 'Virginia', 'California'], 7: ['Western Kentucky', 'Temple', 'New Mexico State', 'Brigham Young', 'Western Kentucky', 'Temple', 'Temple'], 8: ['Utah', 'Rhode Island'], 9: ['UCLA', 'Xavier'], 10: [], 11: ['Tulane'], 12: ['George Washington', 'George Washington'], 13: ['Southern (La.)'], 14: [], 15: ['Santa Clara'], 16: []}, {1: ['Missouri', 'Arkansas', 'North Carolina', 'Purdue', 'Arkansas', 'Purdue', 'Missouri', 'Purdue', 'Arkansas', 'Arkansas', 'Arkansas'], 2: ['Arizona', 'Massachusetts', 'Connecticut', 'Duke', 'Arizona', 'Connecticut', 'Duke', 'Arizona', 'Duke', 'Arizona', 'Duke', 'Duke'], 3: ['Louisville', 'Michigan', 'Florida', 'Kentucky', 'Louisville', 'Michigan', 'Florida', 'Michigan', 'Florida', 'Florida'], 4: ['Syracuse', 'Oklahoma State', 'Temple', 'Kansas', 'Syracuse', 'Kansas'], 5: ['Indiana', 'Wake Forest', 'Indiana'], 6: ['Minnesota', 'Texas', 'Marquette', 'Marquette'], 7: ['Virginia', 'Michigan State'], 8: [], 9: ['Wisconsin', 'Georgetown', 'Boston College', 'Alabama', 'Boston College', 'Boston College'], 10: ['Maryland', 'George Washington', 'Maryland'], 11: ['Penn'], 12: ['Wisconsin-Green Bay', 'Tulsa', 'Tulsa'], 13: [], 14: [], 15: [], 16: []}, {1: ['Kansas', 'Kentucky', 'Wake Forest', 'UCLA', 'Kansas', 'Kentucky', 'Wake Forest', 'UCLA', 'Kentucky', 'UCLA', 'UCLA', 'UCLA'], 2: ['Arkansas', 'North Carolina', 'Massachusetts', 'Connecticut', 'Arkansas', 'North Carolina', 'Massachusetts', 'Connecticut', 'Arkansas', 'North Carolina', 'Massachusetts', 'Connecticut', 'Arkansas', 'North Carolina', 'Arkansas'], 3: ['Purdue', 'Maryland', 'Maryland'], 4: ['Virginia', 'Oklahoma State', 'Utah', 'Virginia', 'Oklahoma State', 'Virginia', 'Oklahoma State', 'Oklahoma State'], 5: ['Arizona State', 'Alabama', 'Mississippi State', 'Arizona State'], 6: ['Memphis', 'Georgetown', 'Tulsa', 'Memphis', 'Georgetown', 'Tulsa'], 7: ['Syracuse', 'Iowa State', 'Cincinnati'], 8: ['Western Kentucky', 'Missouri'], 9: ['Tulane', 'St. Louis'], 10: ['Stanford'], 11: ['Texas'], 12: ['Miami (Ohio)'], 13: ['Manhattan'], 14: ['Weber State', 'Old Dominion'], 15: [], 16: []}, {1: ['Massachusetts', 'Connecticut', 'Kentucky', 'Purdue', 'Massachusetts', 'Connecticut', 'Kentucky', 'Massachusetts', 'Massachusetts', 'Kentucky', 'Kentucky', 'Kentucky'], 2: ['Georgetown', 'Cincinnati', 'Wake Forest', 'Kansas', 'Georgetown', 'Cincinnati', 'Wake Forest', 'Kansas', 'Georgetown', 'Cincinnati', 'Wake Forest', 'Kansas'], 3: ['Texas Tech', 'Georgia Tech', 'Villanova', 'Arizona', 'Texas Tech', 'Arizona'], 4: ['Marquette', 'Utah', 'Syracuse', 'Utah', 'Syracuse', 'Syracuse', 'Syracuse', 'Syracuse'], 5: ['Mississippi State', 'Iowa State', 'Mississippi State', 'Mississippi State', 'Mississippi State'], 6: ['North Carolina', 'Louisville', 'Iowa', 'Louisville'], 7: ['New Mexico', 'Temple'], 8: ['Georgia', 'Georgia'], 9: ['Stanford', 'Eastern Michigan', 'Virginia Tech'], 10: ['Texas', 'Santa Clara'], 11: ['Boston College'], 12: ['Arkansas', 'Drexel', 'Arkansas'], 13: ['Princeton'], 14: [], 15: [], 16: []}, {1: ['North Carolina', 'Kansas', 'Minnesota', 'Kentucky', 'North Carolina', 'Kansas', 'Minnesota', 'Kentucky', 'North Carolina', 'Minnesota', 'Kentucky', 'North Carolina', 'Minnesota', 'Kentucky', 'Kentucky'], 2: ['Duke', 'UCLA', 'Utah', 'UCLA', 'Utah', 'UCLA', 'Utah'], 3: ['New Mexico', 'Cincinnati', 'Wake Forest'], 4: ['Villanova', 'Arizona', 'Clemson', \"St. Joseph's\", 'Arizona', 'Clemson', \"St. Joseph's\", 'Arizona', 'Arizona', 'Arizona', 'Arizona'], 5: ['California', 'Tulsa', 'Boston College', 'California'], 6: ['Louisville', 'Illinois', 'Iowa State', 'Stanford', 'Louisville', 'Iowa State', 'Stanford', 'Louisville'], 7: ['Xavier', 'UNC Charlotte'], 8: ['Purdue', 'Iowa'], 9: ['Colorado', 'Temple'], 10: ['Texas', 'Providence', 'Texas', 'Providence', 'Providence'], 11: [], 12: ['College of Charleston'], 13: [], 14: ['Tennessee-Chattanooga', 'Tennessee-Chattanooga'], 15: ['Coppin State'], 16: []}, {1: ['North Carolina', 'Arizona', 'Kansas', 'Duke', 'North Carolina', 'Arizona', 'Duke', 'North Carolina', 'Arizona', 'Duke', 'North Carolina'], 2: ['Connecticut', 'Cincinnati', 'Purdue', 'Kentucky', 'Connecticut', 'Purdue', 'Kentucky', 'Connecticut', 'Kentucky', 'Kentucky', 'Kentucky', 'Kentucky'], 3: ['Utah', 'Stanford', 'Michigan', 'Utah', 'Stanford', 'Utah', 'Stanford', 'Utah', 'Stanford', 'Utah'], 4: ['Michigan State', 'Maryland', 'New Mexico', 'Michigan State', 'Maryland'], 5: ['Princeton', 'Illinois', 'Syracuse', 'Syracuse'], 6: ['Arkansas', 'UCLA', 'UCLA'], 7: ['Indiana'], 8: ['UNC Charlotte', 'Rhode Island', 'Oklahoma State', 'Rhode Island', 'Rhode Island'], 9: ['Illinois State'], 10: ['West Virginia', 'Detroit', 'Saint Louis', 'West Virginia'], 11: ['Washington', 'Western Michigan', 'Washington'], 12: ['Florida State'], 13: ['Valparaiso', 'Valparaiso'], 14: ['Richmond'], 15: [], 16: []}, {1: ['Auburn', 'Connecticut', 'Michigan State', 'Duke', 'Auburn', 'Connecticut', 'Michigan State', 'Duke', 'Connecticut', 'Michigan State', 'Duke', 'Connecticut', 'Michigan State', 'Duke', 'Connecticut', 'Duke', 'Connecticut'], 2: ['Maryland', 'Stanford', 'Utah', 'Miami (Fla)', 'Maryland'], 3: [\"St. John's\", 'Kentucky', 'Cincinnati', \"St. John's\", \"St. John's\", 'Kentucky'], 4: ['Ohio State', 'Arkansas', 'Tennessee', 'Ohio State', 'Ohio State', 'Ohio State'], 5: ['Iowa', 'UNC Charlotte', 'Iowa'], 6: ['Indiana', 'Florida', 'Kansas', 'Temple', 'Florida', 'Temple', 'Temple'], 7: [], 8: [], 9: ['Oklahoma State', 'New Mexico', 'Mississippi 72. No. 8 Villanova', 'Tulsa'], 10: ['Creighton', 'Gonzaga', 'Miami (Ohio)', 'Purdue', 'Gonzaga', 'Miami (Ohio)', 'Purdue', 'Gonzaga'], 11: [], 12: ['Detroit', 'SW Missouri State', 'SW Missouri State'], 13: ['Oklahoma', 'Oklahoma'], 14: ['Weber State'], 15: [], 16: []}, {1: ['Stanford', 'Duke', 'Arizona', 'Michigan State', 'Duke', 'Michigan State', 'Michigan State', 'Michigan State', 'Michigan State', 'Michigan State'], 2: ['Cincinnati', 'Temple', \"State John's\", 'Iowa State', 'Iowa State', 'Iowa State'], 3: ['Ohio State', 'Oklahoma State', 'Oklahoma', 'Maryland', 'Oklahoma State', 'Oklahoma State'], 4: ['Tennessee', 'Illinois', 'LSU', 'Syracuse', 'Tennessee', 'LSU', 'Syracuse'], 5: ['Connecticut', 'Florida', 'Texas', 'Kentucky', 'Florida', 'Florida', 'Florida', 'Florida'], 6: ['Miami (FL)', 'Purdue', 'UCLA', 'Miami (FL)', 'Purdue', 'Purdue'], 7: ['Tulsa', 'Auburn', 'Tulsa', 'Tulsa'], 8: ['North Carolina', 'Kansas', 'Wisconsin', 'Utah 48. No. 9 Saint Louis', 'North Carolina', 'Wisconsin', 'North Carolina', 'Wisconsin', 'North Carolina', 'Wisconsin'], 9: [], 10: ['Seton Hall', 'Gonzaga', 'Seton Hall', 'Gonzaga'], 11: ['Pepperdine'], 12: [], 13: [], 14: [], 15: [], 16: []}, {1: ['Duke', 'Cincinnati', 'Maryland', 'Kansas', 'Duke', 'Maryland', 'Kansas', 'Maryland', 'Kansas', 'Maryland', 'Maryland', 'Maryland'], 2: ['Alabama', 'Oklahoma', 'Connecticut', 'Oregon', 'Connecticut', 'Oregon', 'Oklahoma', 'Connecticut', 'Oregon', 'Oklahoma'], 3: ['Pittsburgh', 'Arizona', 'Georgia', 'Mississippi St.', 'Pittsburgh', 'Arizona'], 4: ['Ohio St.', 'Kentucky', 'Illinois', 'Kentucky', 'Illinois'], 5: ['Indiana', 'Indiana', 'Indiana', 'Indiana', 'Indiana'], 6: ['California', 'Texas', 'Texas'], 7: ['Xavier', 'North Carolina St.', 'Wake Forest'], 8: ['Notre Dame', 'UCLA', 'Wisconsin', 'Stanford'], 9: [], 10: ['Kent St.', 'Kent St.', 'Kent St.'], 11: ['Wyoming', 'Southern Ill.', 'Southern Ill.'], 12: ['Missouri', 'Tulsa', 'Creighton', 'Missouri', 'Missouri'], 13: ['UNC Wilmington'], 14: [], 15: [], 16: []}, {1: ['Kentucky', 'Arizona', 'Texas', 'Oklahoma', 'Kentucky', 'Arizona', 'Texas', 'Oklahoma', 'Kentucky', 'Arizona', 'Texas', 'Oklahoma', 'Texas'], 2: ['Pittsburgh', 'Kansas', 'Florida', 'Wake Forest', 'Pittsburgh', 'Kansas', 'Kansas', 'Kansas'], 3: ['Marquette', 'Duke', 'Xavier', 'Syracuse', 'Duke', 'Syracuse', 'Marquette', 'Syracuse', 'Marquette', 'Syracuse', 'Syracuse', 'Syracuse'], 4: ['Illinois', 'Stanford', 'Louisville'], 5: ['Wisconsin', 'Notre Dame', 'Connecticut', 'Wisconsin', 'Notre Dame', 'Connecticut'], 6: ['Missouri', 'Maryland', 'Oklahoma St.', 'Maryland'], 7: ['Michigan St.', 'Michigan St.', 'Michigan St.'], 8: ['California'], 9: ['Utah', 'Gonzaga', 'Purdue'], 10: ['Arizona St.', 'Auburn', 'Auburn'], 11: ['C. Michigan'], 12: ['Butler'], 13: ['Tulsa'], 14: [], 15: [], 16: []}, {1: ['Kentucky', \"St. Joseph's\", 'Duke', 'Stanford', \"St. Joseph's\", 'Duke', \"St. Joseph's\", 'Duke', 'Duke'], 2: ['Gonzaga', 'Oklahoma St.', 'Mississippi St.', 'Connecticut', 'Oklahoma St.', 'Connecticut', 'Oklahoma St.', 'Connecticut', 'Oklahoma St.', 'Connecticut', 'Connecticut', 'Connecticut'], 3: ['Georgia Tech', 'Pittsburgh', 'Texas', 'N. Carolina St.', 'Georgia Tech', 'Pittsburgh', 'Texas', 'Georgia Tech', 'Georgia Tech', 'Georgia Tech'], 4: ['Kansas', 'Wake Forest', 'Cincnnati', 'Maryland', 'Kansas', 'Wake Forest'], 5: ['Illinois', 'Syracuse', 'Illinois', 'Syracuse'], 6: ['Boston College', 'Wisconsin', 'North Carolina', 'Vanderbilt', 'Vanderbilt'], 7: ['Memphis', 'Xavier', 'DePaul', 'Xavier', 'Xavier'], 8: ['Texas Tech', 'Seton Hall', 'Alabama', 'Alabama', 'Alabama'], 9: ['UAB', 'UAB'], 10: ['Nevada', 'Nevada'], 11: [], 12: ['Pacific', 'Manhattan'], 13: [], 14: [], 15: [], 16: []}, {1: ['North Carolina', 'Duke', 'Illinois', 'Washington', 'North Carolina', 'Duke', 'Illinois', 'Washington', 'North Carolina', 'Illinois', 'North Carolina', 'Illinois', 'North Carolina', 'Illinois', 'North Carolina'], 2: ['Connecticut', 'Kentucky', 'Oklahoma State', 'Wake Forest', 'Kentucky', 'Oklahoma State', 'Kentucky'], 3: ['Oklahoma', 'Arizona', 'Gonzaga', 'Arizona', 'Arizona'], 4: ['Florida', 'Boston College', 'Louisville', 'Louisville', 'Louisville', 'Louisville'], 5: ['Villanova', 'Michigan State', 'Georgia Tech', 'Villanova', 'Michigan State', 'Michigan State', 'Michigan State'], 6: ['Wisconsin', 'Utah', 'Texas Tech', 'Wisconsin', 'Utah', 'Texas Tech', 'Wisconsin'], 7: ['Cincinnati', 'Southern Illinois', 'West Virginia', 'West Virginia'], 8: ['Pacific'], 9: ['Iowa State', 'Mississippi State', 'Nevada'], 10: ['North Carolina State', 'North Carolina State'], 11: ['UAB'], 12: ['Wisconsin-Milwaukee', 'Wisconsin-Milwaukee'], 13: ['Vermont'], 14: ['Bucknell'], 15: [], 16: []}, {1: ['Connecticut', 'Villanova', 'Duke', 'Memphis', 'Connecticut', 'Villanova', 'Duke', 'Memphis', 'Connecticut', 'Villanova', 'Memphis'], 2: ['Tennessee', 'Ohio State', 'Texas', 'UCLA', 'Texas', 'UCLA', 'Texas', 'UCLA', 'UCLA', 'UCLA'], 3: ['North Carolina', 'Florida', 'Gonzaga', 'Florida', 'Gonzaga', 'Florida', 'Florida', 'Florida', 'Florida'], 4: ['Illinois', 'Boston College', 'LSU', 'Boston College', 'LSU', 'LSU', 'LSU'], 5: ['Washington', 'Pittsburgh', 'Washington'], 6: ['West Virginia', 'Indiana', 'West Virginia'], 7: ['Wichita State', 'Georgetown', 'Wichita State', 'Georgetown'], 8: ['Kentucky', 'Arizona', 'George Washington'], 9: ['Bucknell'], 10: ['N.C. State', 'Alabama'], 11: ['George Mason', 'Wisconsin-Milwaukee', 'George Mason', 'George Mason', 'George Mason'], 12: ['Montana', 'Texas A&M'], 13: ['Bradley', 'Bradley'], 14: ['Northwestern State'], 15: [], 16: []}, {1: ['Florida', 'Kansas', 'North Carolina', 'Ohio State', 'Florida', 'Kansas', 'North Carolina', 'Ohio State', 'Florida', 'Kansas', 'North Carolina', 'Ohio State', 'Florida', 'Ohio State', 'Ohio State', 'Florida', 'Florida'], 2: ['Wisconsin', 'UCLA', 'Georgetown', 'Memphis', 'UCLA', 'Georgetown', 'Memphis', 'UCLA', 'Georgetown', 'Memphis', 'UCLA', 'Georgetown'], 3: ['Oregon', 'Pittsburgh', 'Washington State', 'Texas A&M', 'Oregon', 'Pittsburgh', 'Texas A&M', 'Oregon'], 4: ['Maryland', 'Southern Illinois', 'Texas', 'Virginia', 'Southern Illinois'], 5: ['Butler', 'Virginia Tech', 'Southern California', 'Tennessee', 'Butler', 'Southern California', 'Tennessee'], 6: ['Vanderbilt', 'Louisville', 'Vanderbilt'], 7: ['UNLV', 'Indiana', 'Boston College', 'Nevada', 'UNLV'], 8: ['Kentucky'], 9: ['Purdue', 'Michigan State', 'Xavier'], 10: [], 11: ['Winthrop', 'Virginia Commonwealth'], 12: [], 13: [], 14: [], 15: [], 16: []}, {1: ['North Carolina', 'Kansas', 'Memphis', 'UCLA', 'Kansas', 'Memphis', 'UCLA', 'North Carolina', 'Kansas', 'Memphis', 'UCLA', 'North Carolina', 'Kansas', 'Memphis', 'UCLA', 'Memphis', 'Kansas', 'Kansas'], 2: ['Tennessee', 'Georgetown', 'Texas', 'Duke', 'Tennessee', 'Texas', 'Texas'], 3: ['Louisville', 'Wisconsin', 'Stanford', 'Xavier', 'Louisville', 'Wisconsin', 'Stanford', 'Xavier', 'Louisville', 'Xavier'], 4: ['Washington State', 'Pittsburgh', 'Washington State'], 5: ['Notre Dame', 'Michigan State', 'Michigan State'], 6: ['Oklahoma', 'Marquette', 'Purdue'], 7: ['Butler', 'Miami (Fla.)', 'West Virginia', 'West Virginia'], 8: ['UNLV', 'Mississippi State'], 9: ['Arkansas', 'Texas A&M'], 10: ['Davidson', 'Davidson', 'Davidson'], 11: ['Kansas State'], 12: ['Villanova', 'Western Kentucky', 'Villanova', 'Western Kentucky'], 13: ['Siena', 'San Diego'], 14: [], 15: [], 16: []}, {1: ['Pittsburgh', 'North Carolina', 'Louisville', 'Connecticut', 'Pittsburgh', 'North Carolina', 'Louisville', 'Connecticut', 'Pittsburgh', 'North Carolina', 'Connecticut', 'North Carolina', 'Connecticut', 'North Carolina', 'North Carolina'], 2: ['Duke', 'Oklahoma', 'Michigan State', 'Memphis', 'Duke', 'Oklahoma', 'Michigan State', 'Memphis', 'Oklahoma', 'Michigan State', 'Michigan State', 'Michigan State'], 3: ['Villanova', 'Syracuse', 'Kansas', 'Missouri', 'Villanova', 'Syracuse', 'Kansas', 'Missouri', 'Villanova', 'Villanova'], 4: ['Xavier', 'Gonzaga', 'Washington', 'Xavier', 'Gonzaga'], 5: ['Purdue', 'Purdue'], 6: ['UCLA', 'Arizona State', 'Marquette'], 7: ['Texas'], 8: ['Oklahoma State', 'LSU'], 9: ['Siena', 'Texas A&M'], 10: ['Michigan', 'Southern California', 'Maryland'], 11: ['Dayton'], 12: ['Wisconsin', 'Western Kentucky', 'Arizona', 'Arizona'], 13: ['Cleveland State'], 14: [], 15: [], 16: []}, {1: ['Ohio State', 'Duke', 'Pittsburgh', 'Kansas', 'Ohio State', 'Duke', 'Kansas', 'Kansas'], 2: ['North Carolina', 'San Diego State', 'Florida', 'Notre Dame', 'North Carolina', 'San Diego State', 'Florida', 'North Carolina', 'Florida'], 3: ['Syracuse', 'Connecticut', 'BYU', 'Purdue', 'Connecticut', 'BYU', 'Connecticut', 'Connecticut', 'Connecticut', 'Connecticut'], 4: ['Kentucky', 'Texas', 'Wisconsin', 'Kentucky', 'Wisconsin', 'Kentucky', 'Kentucky'], 5: ['West Virginia', 'Arizona', 'Kansas State', 'Arizona', 'Arizona'], 6: ['Cincinnati'], 7: ['Washington', 'Temple', 'UCLA'], 8: ['George Mason', 'Michigan', 'Butler', 'Butler', 'Butler', 'Butler', 'Butler'], 9: ['Illinois'], 10: ['Florida State', 'Florida State'], 11: ['Marquette', 'Gonzaga', 'Virginia Commonwealth', 'Marquette', 'Virginia Commonwealth', 'Virginia Commonwealth', 'Virginia Commonwealth'], 12: ['Richmond', 'Richmond'], 13: ['Morehead State'], 14: [], 15: [], 16: []}, {1: ['Kentucky', 'Michigan State', 'Syracuse', 'North Carolina', 'Kentucky', 'Michigan State', 'Syracuse', 'North Carolina', 'Syracuse', 'North Carolina', 'Kentucky', 'Kentucky', 'Kentucky'], 2: ['Ohio State', 'Kansas', 'Ohio State', 'Kansas', 'Ohio State', 'Kansas', 'Ohio State', 'Kansas', 'Kansas'], 3: ['Baylor', 'Marquette', 'Florida State', 'Georgetown', 'Baylor', 'Marquette', 'Baylor'], 4: ['Indiana', 'Louisville', 'Wisconsin', 'Louisville', 'Wisconsin', 'Louisville', 'Louisville'], 5: ['New Mexico', 'Vanderbilt'], 6: ['Murray State', 'Cincinnati', 'Cincinnati'], 7: ['Florida', 'Gonzaga', 'Florida', 'Florida'], 8: ['Iowa State', 'Kansas State', 'Creighton'], 9: ['Saint Louis'], 10: ['Xavier', 'Purdue', 'Xavier'], 11: ['Colorado', 'N.C. State', 'N.C. State'], 12: ['VCU', 'South Florida'], 13: ['Ohio', 'Ohio'], 14: [], 15: ['Lehigh', 'Norfolk State'], 16: []}]\n"
     ]
    }
   ],
   "source": [
    "#one_year = final[-1]\n",
    "#for k, v in one_year.iteritems():\n",
    "#    print k, v\n",
    "print final"
   ]
  },
  {
   "cell_type": "code",
   "execution_count": 100,
   "metadata": {
    "collapsed": false
   },
   "outputs": [
    {
     "name": "stdout",
     "output_type": "stream",
     "text": [
      "53\n"
     ]
    }
   ],
   "source": [
    "print len(one_year[4]) * 3 + len(one_year[2]) * 2 + one_year[3].count('Connecticut') * 2 + one_year[3].count('Purdue') * 2"
   ]
  },
  {
   "cell_type": "code",
   "execution_count": 101,
   "metadata": {
    "collapsed": false
   },
   "outputs": [
    {
     "name": "stdout",
     "output_type": "stream",
     "text": [
      "57\n"
     ]
    }
   ],
   "source": [
    "print len(one_year[1]) * 1 + len(one_year[2]) * 2 + one_year[8].count('Butler') * 5 + one_year[11].count('Gonzaga') * 6"
   ]
  },
  {
   "cell_type": "code",
   "execution_count": 81,
   "metadata": {
    "collapsed": false
   },
   "outputs": [],
   "source": [
    "means_two = []"
   ]
  },
  {
   "cell_type": "code",
   "execution_count": 82,
   "metadata": {
    "collapsed": false
   },
   "outputs": [],
   "source": [
    "totals = []\n",
    "for i in range(1,17):\n",
    "    totals.append([])\n",
    "    for year in final:\n",
    "        totals[i-1].append(len(year[i]))"
   ]
  },
  {
   "cell_type": "code",
   "execution_count": 83,
   "metadata": {
    "collapsed": false
   },
   "outputs": [],
   "source": [
    "for seed in totals:\n",
    "    means_two.append(sum(seed) / float(len(seed)))"
   ]
  },
  {
   "cell_type": "code",
   "execution_count": 85,
   "metadata": {
    "collapsed": false
   },
   "outputs": [
    {
     "name": "stdout",
     "output_type": "stream",
     "text": [
      "1 11.7586206897\n",
      "2 8.79310344828\n",
      "3 6.65517241379\n",
      "4 5.55172413793\n",
      "5 4.24137931034\n",
      "6 4.24137931034\n",
      "7 3.03448275862\n",
      "8 2.65517241379\n",
      "9 2.03448275862\n",
      "10 2.34482758621\n",
      "11 1.93103448276\n",
      "12 1.86206896552\n",
      "13 0.931034482759\n",
      "14 0.620689655172\n",
      "15 0.172413793103\n",
      "16 0.0\n"
     ]
    }
   ],
   "source": [
    "for i in range(1,17):\n",
    "    print i,means_two[i-1]"
   ]
  },
  {
   "cell_type": "code",
   "execution_count": null,
   "metadata": {
    "collapsed": false
   },
   "outputs": [],
   "source": []
  }
 ],
 "metadata": {
  "kernelspec": {
   "display_name": "Python 2",
   "language": "python",
   "name": "python2"
  },
  "language_info": {
   "codemirror_mode": {
    "name": "ipython",
    "version": 2
   },
   "file_extension": ".py",
   "mimetype": "text/x-python",
   "name": "python",
   "nbconvert_exporter": "python",
   "pygments_lexer": "ipython2",
   "version": "2.7.9"
  }
 },
 "nbformat": 4,
 "nbformat_minor": 0
}
